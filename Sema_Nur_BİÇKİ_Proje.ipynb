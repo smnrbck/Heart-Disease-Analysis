{
  "cells": [
    {
      "cell_type": "markdown",
      "source": [
        "# Problem Tanımı\n",
        "\n",
        "Veri Seti:Veri seti Kaggle'dan alınmış olup adı 'UCI Heart Disease Data'dır. Dosya zip dosyası olarak indirilmiş ve içinden heart.csv dosyası seçilerek işlemlere başlanmıştır.\n",
        "\n",
        "Problemin Amacı:\n",
        "\n",
        "Bir bireyin yaşı, cinsiyeti,göğüs ağrısı tipi, dinlenme halindeki kan basıncı (sistolik değer, mmHg cinsinden), serum kolestrol seviyesi (mg/dL), açlık kan şekeri (1: >120 mg/dl, 0: <=120 mg/dl), egzersiz sırasında ulaştığı maksimum kalp atış hızı,\tegzersize bağlı ST segment değişimi (kalp grafiği sonucu - EKG) gibi kriterlere göre kalp hastalığı riski taşıyıp taşımadığını tahmin etmek amaçtır.\n",
        "\n",
        "Hedef Değişken: Heart Disease\n",
        "\n",
        "1 → Kalp hastalığı var\n",
        "\n",
        "0 → Kalp hastalığı yok\n",
        "\n",
        "Pratikteki Önemi:\n",
        "Kalp hastalıkları erken fark edilirse, oluşabilecek kötü sonuçlar engellenebilir. Model, kalp krizi risk taşıyan kişileri önceden tahmin ederek yardımcı olabilir.\n",
        "\n",
        "\n"
      ],
      "metadata": {
        "id": "-dLrtYasPXm4"
      }
    },
    {
      "cell_type": "markdown",
      "source": [
        "# Veri Analizi ve Görselleştirme (EDA)\n",
        "df.info(), df.describe() ÇIKTILARI"
      ],
      "metadata": {
        "id": "QKl5tqncQGDb"
      }
    },
    {
      "cell_type": "code",
      "execution_count": null,
      "metadata": {
        "colab": {
          "base_uri": "https://localhost:8080/",
          "height": 403
        },
        "id": "UpsmYLNMRtgC",
        "outputId": "aa37a85a-83b8-4b83-f36f-9b3589719b73"
      },
      "outputs": [
        {
          "output_type": "display_data",
          "data": {
            "text/plain": [
              "<IPython.core.display.HTML object>"
            ],
            "text/html": [
              "\n",
              "     <input type=\"file\" id=\"files-e10bbcca-bdec-420b-b794-e43578e9a54e\" name=\"files[]\" multiple disabled\n",
              "        style=\"border:none\" />\n",
              "     <output id=\"result-e10bbcca-bdec-420b-b794-e43578e9a54e\">\n",
              "      Upload widget is only available when the cell has been executed in the\n",
              "      current browser session. Please rerun this cell to enable.\n",
              "      </output>\n",
              "      <script>// Copyright 2017 Google LLC\n",
              "//\n",
              "// Licensed under the Apache License, Version 2.0 (the \"License\");\n",
              "// you may not use this file except in compliance with the License.\n",
              "// You may obtain a copy of the License at\n",
              "//\n",
              "//      http://www.apache.org/licenses/LICENSE-2.0\n",
              "//\n",
              "// Unless required by applicable law or agreed to in writing, software\n",
              "// distributed under the License is distributed on an \"AS IS\" BASIS,\n",
              "// WITHOUT WARRANTIES OR CONDITIONS OF ANY KIND, either express or implied.\n",
              "// See the License for the specific language governing permissions and\n",
              "// limitations under the License.\n",
              "\n",
              "/**\n",
              " * @fileoverview Helpers for google.colab Python module.\n",
              " */\n",
              "(function(scope) {\n",
              "function span(text, styleAttributes = {}) {\n",
              "  const element = document.createElement('span');\n",
              "  element.textContent = text;\n",
              "  for (const key of Object.keys(styleAttributes)) {\n",
              "    element.style[key] = styleAttributes[key];\n",
              "  }\n",
              "  return element;\n",
              "}\n",
              "\n",
              "// Max number of bytes which will be uploaded at a time.\n",
              "const MAX_PAYLOAD_SIZE = 100 * 1024;\n",
              "\n",
              "function _uploadFiles(inputId, outputId) {\n",
              "  const steps = uploadFilesStep(inputId, outputId);\n",
              "  const outputElement = document.getElementById(outputId);\n",
              "  // Cache steps on the outputElement to make it available for the next call\n",
              "  // to uploadFilesContinue from Python.\n",
              "  outputElement.steps = steps;\n",
              "\n",
              "  return _uploadFilesContinue(outputId);\n",
              "}\n",
              "\n",
              "// This is roughly an async generator (not supported in the browser yet),\n",
              "// where there are multiple asynchronous steps and the Python side is going\n",
              "// to poll for completion of each step.\n",
              "// This uses a Promise to block the python side on completion of each step,\n",
              "// then passes the result of the previous step as the input to the next step.\n",
              "function _uploadFilesContinue(outputId) {\n",
              "  const outputElement = document.getElementById(outputId);\n",
              "  const steps = outputElement.steps;\n",
              "\n",
              "  const next = steps.next(outputElement.lastPromiseValue);\n",
              "  return Promise.resolve(next.value.promise).then((value) => {\n",
              "    // Cache the last promise value to make it available to the next\n",
              "    // step of the generator.\n",
              "    outputElement.lastPromiseValue = value;\n",
              "    return next.value.response;\n",
              "  });\n",
              "}\n",
              "\n",
              "/**\n",
              " * Generator function which is called between each async step of the upload\n",
              " * process.\n",
              " * @param {string} inputId Element ID of the input file picker element.\n",
              " * @param {string} outputId Element ID of the output display.\n",
              " * @return {!Iterable<!Object>} Iterable of next steps.\n",
              " */\n",
              "function* uploadFilesStep(inputId, outputId) {\n",
              "  const inputElement = document.getElementById(inputId);\n",
              "  inputElement.disabled = false;\n",
              "\n",
              "  const outputElement = document.getElementById(outputId);\n",
              "  outputElement.innerHTML = '';\n",
              "\n",
              "  const pickedPromise = new Promise((resolve) => {\n",
              "    inputElement.addEventListener('change', (e) => {\n",
              "      resolve(e.target.files);\n",
              "    });\n",
              "  });\n",
              "\n",
              "  const cancel = document.createElement('button');\n",
              "  inputElement.parentElement.appendChild(cancel);\n",
              "  cancel.textContent = 'Cancel upload';\n",
              "  const cancelPromise = new Promise((resolve) => {\n",
              "    cancel.onclick = () => {\n",
              "      resolve(null);\n",
              "    };\n",
              "  });\n",
              "\n",
              "  // Wait for the user to pick the files.\n",
              "  const files = yield {\n",
              "    promise: Promise.race([pickedPromise, cancelPromise]),\n",
              "    response: {\n",
              "      action: 'starting',\n",
              "    }\n",
              "  };\n",
              "\n",
              "  cancel.remove();\n",
              "\n",
              "  // Disable the input element since further picks are not allowed.\n",
              "  inputElement.disabled = true;\n",
              "\n",
              "  if (!files) {\n",
              "    return {\n",
              "      response: {\n",
              "        action: 'complete',\n",
              "      }\n",
              "    };\n",
              "  }\n",
              "\n",
              "  for (const file of files) {\n",
              "    const li = document.createElement('li');\n",
              "    li.append(span(file.name, {fontWeight: 'bold'}));\n",
              "    li.append(span(\n",
              "        `(${file.type || 'n/a'}) - ${file.size} bytes, ` +\n",
              "        `last modified: ${\n",
              "            file.lastModifiedDate ? file.lastModifiedDate.toLocaleDateString() :\n",
              "                                    'n/a'} - `));\n",
              "    const percent = span('0% done');\n",
              "    li.appendChild(percent);\n",
              "\n",
              "    outputElement.appendChild(li);\n",
              "\n",
              "    const fileDataPromise = new Promise((resolve) => {\n",
              "      const reader = new FileReader();\n",
              "      reader.onload = (e) => {\n",
              "        resolve(e.target.result);\n",
              "      };\n",
              "      reader.readAsArrayBuffer(file);\n",
              "    });\n",
              "    // Wait for the data to be ready.\n",
              "    let fileData = yield {\n",
              "      promise: fileDataPromise,\n",
              "      response: {\n",
              "        action: 'continue',\n",
              "      }\n",
              "    };\n",
              "\n",
              "    // Use a chunked sending to avoid message size limits. See b/62115660.\n",
              "    let position = 0;\n",
              "    do {\n",
              "      const length = Math.min(fileData.byteLength - position, MAX_PAYLOAD_SIZE);\n",
              "      const chunk = new Uint8Array(fileData, position, length);\n",
              "      position += length;\n",
              "\n",
              "      const base64 = btoa(String.fromCharCode.apply(null, chunk));\n",
              "      yield {\n",
              "        response: {\n",
              "          action: 'append',\n",
              "          file: file.name,\n",
              "          data: base64,\n",
              "        },\n",
              "      };\n",
              "\n",
              "      let percentDone = fileData.byteLength === 0 ?\n",
              "          100 :\n",
              "          Math.round((position / fileData.byteLength) * 100);\n",
              "      percent.textContent = `${percentDone}% done`;\n",
              "\n",
              "    } while (position < fileData.byteLength);\n",
              "  }\n",
              "\n",
              "  // All done.\n",
              "  yield {\n",
              "    response: {\n",
              "      action: 'complete',\n",
              "    }\n",
              "  };\n",
              "}\n",
              "\n",
              "scope.google = scope.google || {};\n",
              "scope.google.colab = scope.google.colab || {};\n",
              "scope.google.colab._files = {\n",
              "  _uploadFiles,\n",
              "  _uploadFilesContinue,\n",
              "};\n",
              "})(self);\n",
              "</script> "
            ]
          },
          "metadata": {}
        },
        {
          "output_type": "stream",
          "name": "stdout",
          "text": [
            "Saving heart.csv to heart (1).csv\n",
            "<class 'pandas.core.frame.DataFrame'>\n",
            "RangeIndex: 918 entries, 0 to 917\n",
            "Data columns (total 12 columns):\n",
            " #   Column          Non-Null Count  Dtype  \n",
            "---  ------          --------------  -----  \n",
            " 0   Age             918 non-null    int64  \n",
            " 1   Sex             918 non-null    object \n",
            " 2   ChestPainType   918 non-null    object \n",
            " 3   RestingBP       918 non-null    int64  \n",
            " 4   Cholesterol     918 non-null    int64  \n",
            " 5   FastingBS       918 non-null    int64  \n",
            " 6   RestingECG      918 non-null    object \n",
            " 7   MaxHR           918 non-null    int64  \n",
            " 8   ExerciseAngina  918 non-null    object \n",
            " 9   Oldpeak         918 non-null    float64\n",
            " 10  ST_Slope        918 non-null    object \n",
            " 11  HeartDisease    918 non-null    int64  \n",
            "dtypes: float64(1), int64(6), object(5)\n",
            "memory usage: 86.2+ KB\n"
          ]
        }
      ],
      "source": [
        "from google.colab import files\n",
        "uploaded = files.upload()\n",
        "\n",
        "import pandas as pd\n",
        "df = pd.read_csv(\"heart.csv\")\n",
        "\n",
        "df.info()"
      ]
    },
    {
      "cell_type": "markdown",
      "source": [
        "| Sütun Adı         | Veri Sayısı | Veri Tipi | Açıklama                                 |\n",
        "|-------------------|-------------|-----------|------------------------------------------|\n",
        "| Age               | 918         | int64     | Yaş (tam sayı)                           |\n",
        "| Sex               | 918         | object    | Cinsiyet (\"M\" veya \"F\" gibi)             |\n",
        "| ChestPainType     | 918         | object    | Göğüs ağrısı tipi (kategorik veri)       |\n",
        "| RestingBP         | 918         | int64     | Dinlenme kan basıncı                     |\n",
        "| Cholesterol       | 918         | int64     | Kolesterol seviyesi                      |\n",
        "| FastingBS         | 918         | int64     | Açlık kan şekeri > 120 mg/dl (0 veya 1)  |\n",
        "| RestingECG        | 918         | object    | EKG sonucu                               |\n",
        "| MaxHR             | 918         | int64     | Maksimum kalp atış hızı                  |\n",
        "| ExerciseAngina    | 918         | object    | Egzersize bağlı anjina (\"Y\" veya \"N\")    |\n",
        "| Oldpeak           | 918         | float64   | ST segmenti depresyonu                   |\n",
        "| ST_Slope          | 918         | object    | ST segmentinin eğimi                     |\n",
        "| HeartDisease      | 918         | int64     | Kalp hastalığı var mı? (0 = Yok, 1 = Var)|\n"
      ],
      "metadata": {
        "id": "SJ6RJmjSxwPl"
      }
    },
    {
      "cell_type": "code",
      "source": [
        "df.head() #sayısal mı kategorik mi olduğunu kontrolü yapıldı"
      ],
      "metadata": {
        "colab": {
          "base_uri": "https://localhost:8080/",
          "height": 206
        },
        "id": "hhMRcJICtGCL",
        "outputId": "2ff1fa5a-6f09-4106-ecae-6b0f3dbac2d5"
      },
      "execution_count": null,
      "outputs": [
        {
          "output_type": "execute_result",
          "data": {
            "text/plain": [
              "   Age Sex ChestPainType  RestingBP  Cholesterol  FastingBS RestingECG  MaxHR  \\\n",
              "0   40   M           ATA        140          289          0     Normal    172   \n",
              "1   49   F           NAP        160          180          0     Normal    156   \n",
              "2   37   M           ATA        130          283          0         ST     98   \n",
              "3   48   F           ASY        138          214          0     Normal    108   \n",
              "4   54   M           NAP        150          195          0     Normal    122   \n",
              "\n",
              "  ExerciseAngina  Oldpeak ST_Slope  HeartDisease  \n",
              "0              N      0.0       Up             0  \n",
              "1              N      1.0     Flat             1  \n",
              "2              N      0.0       Up             0  \n",
              "3              Y      1.5     Flat             1  \n",
              "4              N      0.0       Up             0  "
            ],
            "text/html": [
              "\n",
              "  <div id=\"df-e2803648-4010-4770-b64a-aa462e8e5a06\" class=\"colab-df-container\">\n",
              "    <div>\n",
              "<style scoped>\n",
              "    .dataframe tbody tr th:only-of-type {\n",
              "        vertical-align: middle;\n",
              "    }\n",
              "\n",
              "    .dataframe tbody tr th {\n",
              "        vertical-align: top;\n",
              "    }\n",
              "\n",
              "    .dataframe thead th {\n",
              "        text-align: right;\n",
              "    }\n",
              "</style>\n",
              "<table border=\"1\" class=\"dataframe\">\n",
              "  <thead>\n",
              "    <tr style=\"text-align: right;\">\n",
              "      <th></th>\n",
              "      <th>Age</th>\n",
              "      <th>Sex</th>\n",
              "      <th>ChestPainType</th>\n",
              "      <th>RestingBP</th>\n",
              "      <th>Cholesterol</th>\n",
              "      <th>FastingBS</th>\n",
              "      <th>RestingECG</th>\n",
              "      <th>MaxHR</th>\n",
              "      <th>ExerciseAngina</th>\n",
              "      <th>Oldpeak</th>\n",
              "      <th>ST_Slope</th>\n",
              "      <th>HeartDisease</th>\n",
              "    </tr>\n",
              "  </thead>\n",
              "  <tbody>\n",
              "    <tr>\n",
              "      <th>0</th>\n",
              "      <td>40</td>\n",
              "      <td>M</td>\n",
              "      <td>ATA</td>\n",
              "      <td>140</td>\n",
              "      <td>289</td>\n",
              "      <td>0</td>\n",
              "      <td>Normal</td>\n",
              "      <td>172</td>\n",
              "      <td>N</td>\n",
              "      <td>0.0</td>\n",
              "      <td>Up</td>\n",
              "      <td>0</td>\n",
              "    </tr>\n",
              "    <tr>\n",
              "      <th>1</th>\n",
              "      <td>49</td>\n",
              "      <td>F</td>\n",
              "      <td>NAP</td>\n",
              "      <td>160</td>\n",
              "      <td>180</td>\n",
              "      <td>0</td>\n",
              "      <td>Normal</td>\n",
              "      <td>156</td>\n",
              "      <td>N</td>\n",
              "      <td>1.0</td>\n",
              "      <td>Flat</td>\n",
              "      <td>1</td>\n",
              "    </tr>\n",
              "    <tr>\n",
              "      <th>2</th>\n",
              "      <td>37</td>\n",
              "      <td>M</td>\n",
              "      <td>ATA</td>\n",
              "      <td>130</td>\n",
              "      <td>283</td>\n",
              "      <td>0</td>\n",
              "      <td>ST</td>\n",
              "      <td>98</td>\n",
              "      <td>N</td>\n",
              "      <td>0.0</td>\n",
              "      <td>Up</td>\n",
              "      <td>0</td>\n",
              "    </tr>\n",
              "    <tr>\n",
              "      <th>3</th>\n",
              "      <td>48</td>\n",
              "      <td>F</td>\n",
              "      <td>ASY</td>\n",
              "      <td>138</td>\n",
              "      <td>214</td>\n",
              "      <td>0</td>\n",
              "      <td>Normal</td>\n",
              "      <td>108</td>\n",
              "      <td>Y</td>\n",
              "      <td>1.5</td>\n",
              "      <td>Flat</td>\n",
              "      <td>1</td>\n",
              "    </tr>\n",
              "    <tr>\n",
              "      <th>4</th>\n",
              "      <td>54</td>\n",
              "      <td>M</td>\n",
              "      <td>NAP</td>\n",
              "      <td>150</td>\n",
              "      <td>195</td>\n",
              "      <td>0</td>\n",
              "      <td>Normal</td>\n",
              "      <td>122</td>\n",
              "      <td>N</td>\n",
              "      <td>0.0</td>\n",
              "      <td>Up</td>\n",
              "      <td>0</td>\n",
              "    </tr>\n",
              "  </tbody>\n",
              "</table>\n",
              "</div>\n",
              "    <div class=\"colab-df-buttons\">\n",
              "\n",
              "  <div class=\"colab-df-container\">\n",
              "    <button class=\"colab-df-convert\" onclick=\"convertToInteractive('df-e2803648-4010-4770-b64a-aa462e8e5a06')\"\n",
              "            title=\"Convert this dataframe to an interactive table.\"\n",
              "            style=\"display:none;\">\n",
              "\n",
              "  <svg xmlns=\"http://www.w3.org/2000/svg\" height=\"24px\" viewBox=\"0 -960 960 960\">\n",
              "    <path d=\"M120-120v-720h720v720H120Zm60-500h600v-160H180v160Zm220 220h160v-160H400v160Zm0 220h160v-160H400v160ZM180-400h160v-160H180v160Zm440 0h160v-160H620v160ZM180-180h160v-160H180v160Zm440 0h160v-160H620v160Z\"/>\n",
              "  </svg>\n",
              "    </button>\n",
              "\n",
              "  <style>\n",
              "    .colab-df-container {\n",
              "      display:flex;\n",
              "      gap: 12px;\n",
              "    }\n",
              "\n",
              "    .colab-df-convert {\n",
              "      background-color: #E8F0FE;\n",
              "      border: none;\n",
              "      border-radius: 50%;\n",
              "      cursor: pointer;\n",
              "      display: none;\n",
              "      fill: #1967D2;\n",
              "      height: 32px;\n",
              "      padding: 0 0 0 0;\n",
              "      width: 32px;\n",
              "    }\n",
              "\n",
              "    .colab-df-convert:hover {\n",
              "      background-color: #E2EBFA;\n",
              "      box-shadow: 0px 1px 2px rgba(60, 64, 67, 0.3), 0px 1px 3px 1px rgba(60, 64, 67, 0.15);\n",
              "      fill: #174EA6;\n",
              "    }\n",
              "\n",
              "    .colab-df-buttons div {\n",
              "      margin-bottom: 4px;\n",
              "    }\n",
              "\n",
              "    [theme=dark] .colab-df-convert {\n",
              "      background-color: #3B4455;\n",
              "      fill: #D2E3FC;\n",
              "    }\n",
              "\n",
              "    [theme=dark] .colab-df-convert:hover {\n",
              "      background-color: #434B5C;\n",
              "      box-shadow: 0px 1px 3px 1px rgba(0, 0, 0, 0.15);\n",
              "      filter: drop-shadow(0px 1px 2px rgba(0, 0, 0, 0.3));\n",
              "      fill: #FFFFFF;\n",
              "    }\n",
              "  </style>\n",
              "\n",
              "    <script>\n",
              "      const buttonEl =\n",
              "        document.querySelector('#df-e2803648-4010-4770-b64a-aa462e8e5a06 button.colab-df-convert');\n",
              "      buttonEl.style.display =\n",
              "        google.colab.kernel.accessAllowed ? 'block' : 'none';\n",
              "\n",
              "      async function convertToInteractive(key) {\n",
              "        const element = document.querySelector('#df-e2803648-4010-4770-b64a-aa462e8e5a06');\n",
              "        const dataTable =\n",
              "          await google.colab.kernel.invokeFunction('convertToInteractive',\n",
              "                                                    [key], {});\n",
              "        if (!dataTable) return;\n",
              "\n",
              "        const docLinkHtml = 'Like what you see? Visit the ' +\n",
              "          '<a target=\"_blank\" href=https://colab.research.google.com/notebooks/data_table.ipynb>data table notebook</a>'\n",
              "          + ' to learn more about interactive tables.';\n",
              "        element.innerHTML = '';\n",
              "        dataTable['output_type'] = 'display_data';\n",
              "        await google.colab.output.renderOutput(dataTable, element);\n",
              "        const docLink = document.createElement('div');\n",
              "        docLink.innerHTML = docLinkHtml;\n",
              "        element.appendChild(docLink);\n",
              "      }\n",
              "    </script>\n",
              "  </div>\n",
              "\n",
              "\n",
              "    <div id=\"df-5cd68def-9216-4596-a1ed-2b32ad0d0d85\">\n",
              "      <button class=\"colab-df-quickchart\" onclick=\"quickchart('df-5cd68def-9216-4596-a1ed-2b32ad0d0d85')\"\n",
              "                title=\"Suggest charts\"\n",
              "                style=\"display:none;\">\n",
              "\n",
              "<svg xmlns=\"http://www.w3.org/2000/svg\" height=\"24px\"viewBox=\"0 0 24 24\"\n",
              "     width=\"24px\">\n",
              "    <g>\n",
              "        <path d=\"M19 3H5c-1.1 0-2 .9-2 2v14c0 1.1.9 2 2 2h14c1.1 0 2-.9 2-2V5c0-1.1-.9-2-2-2zM9 17H7v-7h2v7zm4 0h-2V7h2v10zm4 0h-2v-4h2v4z\"/>\n",
              "    </g>\n",
              "</svg>\n",
              "      </button>\n",
              "\n",
              "<style>\n",
              "  .colab-df-quickchart {\n",
              "      --bg-color: #E8F0FE;\n",
              "      --fill-color: #1967D2;\n",
              "      --hover-bg-color: #E2EBFA;\n",
              "      --hover-fill-color: #174EA6;\n",
              "      --disabled-fill-color: #AAA;\n",
              "      --disabled-bg-color: #DDD;\n",
              "  }\n",
              "\n",
              "  [theme=dark] .colab-df-quickchart {\n",
              "      --bg-color: #3B4455;\n",
              "      --fill-color: #D2E3FC;\n",
              "      --hover-bg-color: #434B5C;\n",
              "      --hover-fill-color: #FFFFFF;\n",
              "      --disabled-bg-color: #3B4455;\n",
              "      --disabled-fill-color: #666;\n",
              "  }\n",
              "\n",
              "  .colab-df-quickchart {\n",
              "    background-color: var(--bg-color);\n",
              "    border: none;\n",
              "    border-radius: 50%;\n",
              "    cursor: pointer;\n",
              "    display: none;\n",
              "    fill: var(--fill-color);\n",
              "    height: 32px;\n",
              "    padding: 0;\n",
              "    width: 32px;\n",
              "  }\n",
              "\n",
              "  .colab-df-quickchart:hover {\n",
              "    background-color: var(--hover-bg-color);\n",
              "    box-shadow: 0 1px 2px rgba(60, 64, 67, 0.3), 0 1px 3px 1px rgba(60, 64, 67, 0.15);\n",
              "    fill: var(--button-hover-fill-color);\n",
              "  }\n",
              "\n",
              "  .colab-df-quickchart-complete:disabled,\n",
              "  .colab-df-quickchart-complete:disabled:hover {\n",
              "    background-color: var(--disabled-bg-color);\n",
              "    fill: var(--disabled-fill-color);\n",
              "    box-shadow: none;\n",
              "  }\n",
              "\n",
              "  .colab-df-spinner {\n",
              "    border: 2px solid var(--fill-color);\n",
              "    border-color: transparent;\n",
              "    border-bottom-color: var(--fill-color);\n",
              "    animation:\n",
              "      spin 1s steps(1) infinite;\n",
              "  }\n",
              "\n",
              "  @keyframes spin {\n",
              "    0% {\n",
              "      border-color: transparent;\n",
              "      border-bottom-color: var(--fill-color);\n",
              "      border-left-color: var(--fill-color);\n",
              "    }\n",
              "    20% {\n",
              "      border-color: transparent;\n",
              "      border-left-color: var(--fill-color);\n",
              "      border-top-color: var(--fill-color);\n",
              "    }\n",
              "    30% {\n",
              "      border-color: transparent;\n",
              "      border-left-color: var(--fill-color);\n",
              "      border-top-color: var(--fill-color);\n",
              "      border-right-color: var(--fill-color);\n",
              "    }\n",
              "    40% {\n",
              "      border-color: transparent;\n",
              "      border-right-color: var(--fill-color);\n",
              "      border-top-color: var(--fill-color);\n",
              "    }\n",
              "    60% {\n",
              "      border-color: transparent;\n",
              "      border-right-color: var(--fill-color);\n",
              "    }\n",
              "    80% {\n",
              "      border-color: transparent;\n",
              "      border-right-color: var(--fill-color);\n",
              "      border-bottom-color: var(--fill-color);\n",
              "    }\n",
              "    90% {\n",
              "      border-color: transparent;\n",
              "      border-bottom-color: var(--fill-color);\n",
              "    }\n",
              "  }\n",
              "</style>\n",
              "\n",
              "      <script>\n",
              "        async function quickchart(key) {\n",
              "          const quickchartButtonEl =\n",
              "            document.querySelector('#' + key + ' button');\n",
              "          quickchartButtonEl.disabled = true;  // To prevent multiple clicks.\n",
              "          quickchartButtonEl.classList.add('colab-df-spinner');\n",
              "          try {\n",
              "            const charts = await google.colab.kernel.invokeFunction(\n",
              "                'suggestCharts', [key], {});\n",
              "          } catch (error) {\n",
              "            console.error('Error during call to suggestCharts:', error);\n",
              "          }\n",
              "          quickchartButtonEl.classList.remove('colab-df-spinner');\n",
              "          quickchartButtonEl.classList.add('colab-df-quickchart-complete');\n",
              "        }\n",
              "        (() => {\n",
              "          let quickchartButtonEl =\n",
              "            document.querySelector('#df-5cd68def-9216-4596-a1ed-2b32ad0d0d85 button');\n",
              "          quickchartButtonEl.style.display =\n",
              "            google.colab.kernel.accessAllowed ? 'block' : 'none';\n",
              "        })();\n",
              "      </script>\n",
              "    </div>\n",
              "\n",
              "    </div>\n",
              "  </div>\n"
            ],
            "application/vnd.google.colaboratory.intrinsic+json": {
              "type": "dataframe",
              "variable_name": "df",
              "summary": "{\n  \"name\": \"df\",\n  \"rows\": 918,\n  \"fields\": [\n    {\n      \"column\": \"Age\",\n      \"properties\": {\n        \"dtype\": \"number\",\n        \"std\": 9,\n        \"min\": 28,\n        \"max\": 77,\n        \"num_unique_values\": 50,\n        \"samples\": [\n          44,\n          68,\n          66\n        ],\n        \"semantic_type\": \"\",\n        \"description\": \"\"\n      }\n    },\n    {\n      \"column\": \"Sex\",\n      \"properties\": {\n        \"dtype\": \"category\",\n        \"num_unique_values\": 2,\n        \"samples\": [\n          \"F\",\n          \"M\"\n        ],\n        \"semantic_type\": \"\",\n        \"description\": \"\"\n      }\n    },\n    {\n      \"column\": \"ChestPainType\",\n      \"properties\": {\n        \"dtype\": \"category\",\n        \"num_unique_values\": 4,\n        \"samples\": [\n          \"NAP\",\n          \"TA\"\n        ],\n        \"semantic_type\": \"\",\n        \"description\": \"\"\n      }\n    },\n    {\n      \"column\": \"RestingBP\",\n      \"properties\": {\n        \"dtype\": \"number\",\n        \"std\": 18,\n        \"min\": 0,\n        \"max\": 200,\n        \"num_unique_values\": 67,\n        \"samples\": [\n          165,\n          118\n        ],\n        \"semantic_type\": \"\",\n        \"description\": \"\"\n      }\n    },\n    {\n      \"column\": \"Cholesterol\",\n      \"properties\": {\n        \"dtype\": \"number\",\n        \"std\": 109,\n        \"min\": 0,\n        \"max\": 603,\n        \"num_unique_values\": 222,\n        \"samples\": [\n          305,\n          321\n        ],\n        \"semantic_type\": \"\",\n        \"description\": \"\"\n      }\n    },\n    {\n      \"column\": \"FastingBS\",\n      \"properties\": {\n        \"dtype\": \"number\",\n        \"std\": 0,\n        \"min\": 0,\n        \"max\": 1,\n        \"num_unique_values\": 2,\n        \"samples\": [\n          1,\n          0\n        ],\n        \"semantic_type\": \"\",\n        \"description\": \"\"\n      }\n    },\n    {\n      \"column\": \"RestingECG\",\n      \"properties\": {\n        \"dtype\": \"category\",\n        \"num_unique_values\": 3,\n        \"samples\": [\n          \"Normal\",\n          \"ST\"\n        ],\n        \"semantic_type\": \"\",\n        \"description\": \"\"\n      }\n    },\n    {\n      \"column\": \"MaxHR\",\n      \"properties\": {\n        \"dtype\": \"number\",\n        \"std\": 25,\n        \"min\": 60,\n        \"max\": 202,\n        \"num_unique_values\": 119,\n        \"samples\": [\n          132,\n          157\n        ],\n        \"semantic_type\": \"\",\n        \"description\": \"\"\n      }\n    },\n    {\n      \"column\": \"ExerciseAngina\",\n      \"properties\": {\n        \"dtype\": \"category\",\n        \"num_unique_values\": 2,\n        \"samples\": [\n          \"Y\",\n          \"N\"\n        ],\n        \"semantic_type\": \"\",\n        \"description\": \"\"\n      }\n    },\n    {\n      \"column\": \"Oldpeak\",\n      \"properties\": {\n        \"dtype\": \"number\",\n        \"std\": 1.0665701510493233,\n        \"min\": -2.6,\n        \"max\": 6.2,\n        \"num_unique_values\": 53,\n        \"samples\": [\n          1.3,\n          0.6\n        ],\n        \"semantic_type\": \"\",\n        \"description\": \"\"\n      }\n    },\n    {\n      \"column\": \"ST_Slope\",\n      \"properties\": {\n        \"dtype\": \"category\",\n        \"num_unique_values\": 3,\n        \"samples\": [\n          \"Up\",\n          \"Flat\"\n        ],\n        \"semantic_type\": \"\",\n        \"description\": \"\"\n      }\n    },\n    {\n      \"column\": \"HeartDisease\",\n      \"properties\": {\n        \"dtype\": \"number\",\n        \"std\": 0,\n        \"min\": 0,\n        \"max\": 1,\n        \"num_unique_values\": 2,\n        \"samples\": [\n          1,\n          0\n        ],\n        \"semantic_type\": \"\",\n        \"description\": \"\"\n      }\n    }\n  ]\n}"
            }
          },
          "metadata": {},
          "execution_count": 32
        }
      ]
    },
    {
      "cell_type": "code",
      "source": [
        "df.describe()"
      ],
      "metadata": {
        "colab": {
          "base_uri": "https://localhost:8080/",
          "height": 300
        },
        "id": "bsbADu1ZRzR2",
        "outputId": "ae9be78e-56b2-4a11-8dec-9f10df4947cb"
      },
      "execution_count": null,
      "outputs": [
        {
          "output_type": "execute_result",
          "data": {
            "text/plain": [
              "              Age   RestingBP  Cholesterol   FastingBS       MaxHR  \\\n",
              "count  918.000000  918.000000   918.000000  918.000000  918.000000   \n",
              "mean    53.510893  132.396514   198.799564    0.233115  136.809368   \n",
              "std      9.432617   18.514154   109.384145    0.423046   25.460334   \n",
              "min     28.000000    0.000000     0.000000    0.000000   60.000000   \n",
              "25%     47.000000  120.000000   173.250000    0.000000  120.000000   \n",
              "50%     54.000000  130.000000   223.000000    0.000000  138.000000   \n",
              "75%     60.000000  140.000000   267.000000    0.000000  156.000000   \n",
              "max     77.000000  200.000000   603.000000    1.000000  202.000000   \n",
              "\n",
              "          Oldpeak  HeartDisease  \n",
              "count  918.000000    918.000000  \n",
              "mean     0.887364      0.553377  \n",
              "std      1.066570      0.497414  \n",
              "min     -2.600000      0.000000  \n",
              "25%      0.000000      0.000000  \n",
              "50%      0.600000      1.000000  \n",
              "75%      1.500000      1.000000  \n",
              "max      6.200000      1.000000  "
            ],
            "text/html": [
              "\n",
              "  <div id=\"df-98dc2b87-8fb3-4271-81b3-40149c122769\" class=\"colab-df-container\">\n",
              "    <div>\n",
              "<style scoped>\n",
              "    .dataframe tbody tr th:only-of-type {\n",
              "        vertical-align: middle;\n",
              "    }\n",
              "\n",
              "    .dataframe tbody tr th {\n",
              "        vertical-align: top;\n",
              "    }\n",
              "\n",
              "    .dataframe thead th {\n",
              "        text-align: right;\n",
              "    }\n",
              "</style>\n",
              "<table border=\"1\" class=\"dataframe\">\n",
              "  <thead>\n",
              "    <tr style=\"text-align: right;\">\n",
              "      <th></th>\n",
              "      <th>Age</th>\n",
              "      <th>RestingBP</th>\n",
              "      <th>Cholesterol</th>\n",
              "      <th>FastingBS</th>\n",
              "      <th>MaxHR</th>\n",
              "      <th>Oldpeak</th>\n",
              "      <th>HeartDisease</th>\n",
              "    </tr>\n",
              "  </thead>\n",
              "  <tbody>\n",
              "    <tr>\n",
              "      <th>count</th>\n",
              "      <td>918.000000</td>\n",
              "      <td>918.000000</td>\n",
              "      <td>918.000000</td>\n",
              "      <td>918.000000</td>\n",
              "      <td>918.000000</td>\n",
              "      <td>918.000000</td>\n",
              "      <td>918.000000</td>\n",
              "    </tr>\n",
              "    <tr>\n",
              "      <th>mean</th>\n",
              "      <td>53.510893</td>\n",
              "      <td>132.396514</td>\n",
              "      <td>198.799564</td>\n",
              "      <td>0.233115</td>\n",
              "      <td>136.809368</td>\n",
              "      <td>0.887364</td>\n",
              "      <td>0.553377</td>\n",
              "    </tr>\n",
              "    <tr>\n",
              "      <th>std</th>\n",
              "      <td>9.432617</td>\n",
              "      <td>18.514154</td>\n",
              "      <td>109.384145</td>\n",
              "      <td>0.423046</td>\n",
              "      <td>25.460334</td>\n",
              "      <td>1.066570</td>\n",
              "      <td>0.497414</td>\n",
              "    </tr>\n",
              "    <tr>\n",
              "      <th>min</th>\n",
              "      <td>28.000000</td>\n",
              "      <td>0.000000</td>\n",
              "      <td>0.000000</td>\n",
              "      <td>0.000000</td>\n",
              "      <td>60.000000</td>\n",
              "      <td>-2.600000</td>\n",
              "      <td>0.000000</td>\n",
              "    </tr>\n",
              "    <tr>\n",
              "      <th>25%</th>\n",
              "      <td>47.000000</td>\n",
              "      <td>120.000000</td>\n",
              "      <td>173.250000</td>\n",
              "      <td>0.000000</td>\n",
              "      <td>120.000000</td>\n",
              "      <td>0.000000</td>\n",
              "      <td>0.000000</td>\n",
              "    </tr>\n",
              "    <tr>\n",
              "      <th>50%</th>\n",
              "      <td>54.000000</td>\n",
              "      <td>130.000000</td>\n",
              "      <td>223.000000</td>\n",
              "      <td>0.000000</td>\n",
              "      <td>138.000000</td>\n",
              "      <td>0.600000</td>\n",
              "      <td>1.000000</td>\n",
              "    </tr>\n",
              "    <tr>\n",
              "      <th>75%</th>\n",
              "      <td>60.000000</td>\n",
              "      <td>140.000000</td>\n",
              "      <td>267.000000</td>\n",
              "      <td>0.000000</td>\n",
              "      <td>156.000000</td>\n",
              "      <td>1.500000</td>\n",
              "      <td>1.000000</td>\n",
              "    </tr>\n",
              "    <tr>\n",
              "      <th>max</th>\n",
              "      <td>77.000000</td>\n",
              "      <td>200.000000</td>\n",
              "      <td>603.000000</td>\n",
              "      <td>1.000000</td>\n",
              "      <td>202.000000</td>\n",
              "      <td>6.200000</td>\n",
              "      <td>1.000000</td>\n",
              "    </tr>\n",
              "  </tbody>\n",
              "</table>\n",
              "</div>\n",
              "    <div class=\"colab-df-buttons\">\n",
              "\n",
              "  <div class=\"colab-df-container\">\n",
              "    <button class=\"colab-df-convert\" onclick=\"convertToInteractive('df-98dc2b87-8fb3-4271-81b3-40149c122769')\"\n",
              "            title=\"Convert this dataframe to an interactive table.\"\n",
              "            style=\"display:none;\">\n",
              "\n",
              "  <svg xmlns=\"http://www.w3.org/2000/svg\" height=\"24px\" viewBox=\"0 -960 960 960\">\n",
              "    <path d=\"M120-120v-720h720v720H120Zm60-500h600v-160H180v160Zm220 220h160v-160H400v160Zm0 220h160v-160H400v160ZM180-400h160v-160H180v160Zm440 0h160v-160H620v160ZM180-180h160v-160H180v160Zm440 0h160v-160H620v160Z\"/>\n",
              "  </svg>\n",
              "    </button>\n",
              "\n",
              "  <style>\n",
              "    .colab-df-container {\n",
              "      display:flex;\n",
              "      gap: 12px;\n",
              "    }\n",
              "\n",
              "    .colab-df-convert {\n",
              "      background-color: #E8F0FE;\n",
              "      border: none;\n",
              "      border-radius: 50%;\n",
              "      cursor: pointer;\n",
              "      display: none;\n",
              "      fill: #1967D2;\n",
              "      height: 32px;\n",
              "      padding: 0 0 0 0;\n",
              "      width: 32px;\n",
              "    }\n",
              "\n",
              "    .colab-df-convert:hover {\n",
              "      background-color: #E2EBFA;\n",
              "      box-shadow: 0px 1px 2px rgba(60, 64, 67, 0.3), 0px 1px 3px 1px rgba(60, 64, 67, 0.15);\n",
              "      fill: #174EA6;\n",
              "    }\n",
              "\n",
              "    .colab-df-buttons div {\n",
              "      margin-bottom: 4px;\n",
              "    }\n",
              "\n",
              "    [theme=dark] .colab-df-convert {\n",
              "      background-color: #3B4455;\n",
              "      fill: #D2E3FC;\n",
              "    }\n",
              "\n",
              "    [theme=dark] .colab-df-convert:hover {\n",
              "      background-color: #434B5C;\n",
              "      box-shadow: 0px 1px 3px 1px rgba(0, 0, 0, 0.15);\n",
              "      filter: drop-shadow(0px 1px 2px rgba(0, 0, 0, 0.3));\n",
              "      fill: #FFFFFF;\n",
              "    }\n",
              "  </style>\n",
              "\n",
              "    <script>\n",
              "      const buttonEl =\n",
              "        document.querySelector('#df-98dc2b87-8fb3-4271-81b3-40149c122769 button.colab-df-convert');\n",
              "      buttonEl.style.display =\n",
              "        google.colab.kernel.accessAllowed ? 'block' : 'none';\n",
              "\n",
              "      async function convertToInteractive(key) {\n",
              "        const element = document.querySelector('#df-98dc2b87-8fb3-4271-81b3-40149c122769');\n",
              "        const dataTable =\n",
              "          await google.colab.kernel.invokeFunction('convertToInteractive',\n",
              "                                                    [key], {});\n",
              "        if (!dataTable) return;\n",
              "\n",
              "        const docLinkHtml = 'Like what you see? Visit the ' +\n",
              "          '<a target=\"_blank\" href=https://colab.research.google.com/notebooks/data_table.ipynb>data table notebook</a>'\n",
              "          + ' to learn more about interactive tables.';\n",
              "        element.innerHTML = '';\n",
              "        dataTable['output_type'] = 'display_data';\n",
              "        await google.colab.output.renderOutput(dataTable, element);\n",
              "        const docLink = document.createElement('div');\n",
              "        docLink.innerHTML = docLinkHtml;\n",
              "        element.appendChild(docLink);\n",
              "      }\n",
              "    </script>\n",
              "  </div>\n",
              "\n",
              "\n",
              "    <div id=\"df-8bf5ef85-bd1d-4a1a-bb7b-cef4261cc270\">\n",
              "      <button class=\"colab-df-quickchart\" onclick=\"quickchart('df-8bf5ef85-bd1d-4a1a-bb7b-cef4261cc270')\"\n",
              "                title=\"Suggest charts\"\n",
              "                style=\"display:none;\">\n",
              "\n",
              "<svg xmlns=\"http://www.w3.org/2000/svg\" height=\"24px\"viewBox=\"0 0 24 24\"\n",
              "     width=\"24px\">\n",
              "    <g>\n",
              "        <path d=\"M19 3H5c-1.1 0-2 .9-2 2v14c0 1.1.9 2 2 2h14c1.1 0 2-.9 2-2V5c0-1.1-.9-2-2-2zM9 17H7v-7h2v7zm4 0h-2V7h2v10zm4 0h-2v-4h2v4z\"/>\n",
              "    </g>\n",
              "</svg>\n",
              "      </button>\n",
              "\n",
              "<style>\n",
              "  .colab-df-quickchart {\n",
              "      --bg-color: #E8F0FE;\n",
              "      --fill-color: #1967D2;\n",
              "      --hover-bg-color: #E2EBFA;\n",
              "      --hover-fill-color: #174EA6;\n",
              "      --disabled-fill-color: #AAA;\n",
              "      --disabled-bg-color: #DDD;\n",
              "  }\n",
              "\n",
              "  [theme=dark] .colab-df-quickchart {\n",
              "      --bg-color: #3B4455;\n",
              "      --fill-color: #D2E3FC;\n",
              "      --hover-bg-color: #434B5C;\n",
              "      --hover-fill-color: #FFFFFF;\n",
              "      --disabled-bg-color: #3B4455;\n",
              "      --disabled-fill-color: #666;\n",
              "  }\n",
              "\n",
              "  .colab-df-quickchart {\n",
              "    background-color: var(--bg-color);\n",
              "    border: none;\n",
              "    border-radius: 50%;\n",
              "    cursor: pointer;\n",
              "    display: none;\n",
              "    fill: var(--fill-color);\n",
              "    height: 32px;\n",
              "    padding: 0;\n",
              "    width: 32px;\n",
              "  }\n",
              "\n",
              "  .colab-df-quickchart:hover {\n",
              "    background-color: var(--hover-bg-color);\n",
              "    box-shadow: 0 1px 2px rgba(60, 64, 67, 0.3), 0 1px 3px 1px rgba(60, 64, 67, 0.15);\n",
              "    fill: var(--button-hover-fill-color);\n",
              "  }\n",
              "\n",
              "  .colab-df-quickchart-complete:disabled,\n",
              "  .colab-df-quickchart-complete:disabled:hover {\n",
              "    background-color: var(--disabled-bg-color);\n",
              "    fill: var(--disabled-fill-color);\n",
              "    box-shadow: none;\n",
              "  }\n",
              "\n",
              "  .colab-df-spinner {\n",
              "    border: 2px solid var(--fill-color);\n",
              "    border-color: transparent;\n",
              "    border-bottom-color: var(--fill-color);\n",
              "    animation:\n",
              "      spin 1s steps(1) infinite;\n",
              "  }\n",
              "\n",
              "  @keyframes spin {\n",
              "    0% {\n",
              "      border-color: transparent;\n",
              "      border-bottom-color: var(--fill-color);\n",
              "      border-left-color: var(--fill-color);\n",
              "    }\n",
              "    20% {\n",
              "      border-color: transparent;\n",
              "      border-left-color: var(--fill-color);\n",
              "      border-top-color: var(--fill-color);\n",
              "    }\n",
              "    30% {\n",
              "      border-color: transparent;\n",
              "      border-left-color: var(--fill-color);\n",
              "      border-top-color: var(--fill-color);\n",
              "      border-right-color: var(--fill-color);\n",
              "    }\n",
              "    40% {\n",
              "      border-color: transparent;\n",
              "      border-right-color: var(--fill-color);\n",
              "      border-top-color: var(--fill-color);\n",
              "    }\n",
              "    60% {\n",
              "      border-color: transparent;\n",
              "      border-right-color: var(--fill-color);\n",
              "    }\n",
              "    80% {\n",
              "      border-color: transparent;\n",
              "      border-right-color: var(--fill-color);\n",
              "      border-bottom-color: var(--fill-color);\n",
              "    }\n",
              "    90% {\n",
              "      border-color: transparent;\n",
              "      border-bottom-color: var(--fill-color);\n",
              "    }\n",
              "  }\n",
              "</style>\n",
              "\n",
              "      <script>\n",
              "        async function quickchart(key) {\n",
              "          const quickchartButtonEl =\n",
              "            document.querySelector('#' + key + ' button');\n",
              "          quickchartButtonEl.disabled = true;  // To prevent multiple clicks.\n",
              "          quickchartButtonEl.classList.add('colab-df-spinner');\n",
              "          try {\n",
              "            const charts = await google.colab.kernel.invokeFunction(\n",
              "                'suggestCharts', [key], {});\n",
              "          } catch (error) {\n",
              "            console.error('Error during call to suggestCharts:', error);\n",
              "          }\n",
              "          quickchartButtonEl.classList.remove('colab-df-spinner');\n",
              "          quickchartButtonEl.classList.add('colab-df-quickchart-complete');\n",
              "        }\n",
              "        (() => {\n",
              "          let quickchartButtonEl =\n",
              "            document.querySelector('#df-8bf5ef85-bd1d-4a1a-bb7b-cef4261cc270 button');\n",
              "          quickchartButtonEl.style.display =\n",
              "            google.colab.kernel.accessAllowed ? 'block' : 'none';\n",
              "        })();\n",
              "      </script>\n",
              "    </div>\n",
              "\n",
              "    </div>\n",
              "  </div>\n"
            ],
            "application/vnd.google.colaboratory.intrinsic+json": {
              "type": "dataframe",
              "summary": "{\n  \"name\": \"df\",\n  \"rows\": 8,\n  \"fields\": [\n    {\n      \"column\": \"Age\",\n      \"properties\": {\n        \"dtype\": \"number\",\n        \"std\": 308.627347039806,\n        \"min\": 9.432616506732007,\n        \"max\": 918.0,\n        \"num_unique_values\": 8,\n        \"samples\": [\n          53.510893246187365,\n          54.0,\n          918.0\n        ],\n        \"semantic_type\": \"\",\n        \"description\": \"\"\n      }\n    },\n    {\n      \"column\": \"RestingBP\",\n      \"properties\": {\n        \"dtype\": \"number\",\n        \"std\": 294.5935541913639,\n        \"min\": 0.0,\n        \"max\": 918.0,\n        \"num_unique_values\": 8,\n        \"samples\": [\n          132.39651416122004,\n          130.0,\n          918.0\n        ],\n        \"semantic_type\": \"\",\n        \"description\": \"\"\n      }\n    },\n    {\n      \"column\": \"Cholesterol\",\n      \"properties\": {\n        \"dtype\": \"number\",\n        \"std\": 300.55294190735805,\n        \"min\": 0.0,\n        \"max\": 918.0,\n        \"num_unique_values\": 8,\n        \"samples\": [\n          198.7995642701525,\n          223.0,\n          918.0\n        ],\n        \"semantic_type\": \"\",\n        \"description\": \"\"\n      }\n    },\n    {\n      \"column\": \"FastingBS\",\n      \"properties\": {\n        \"dtype\": \"number\",\n        \"std\": 324.4785490336432,\n        \"min\": 0.0,\n        \"max\": 918.0,\n        \"num_unique_values\": 5,\n        \"samples\": [\n          0.23311546840958605,\n          1.0,\n          0.423045624739302\n        ],\n        \"semantic_type\": \"\",\n        \"description\": \"\"\n      }\n    },\n    {\n      \"column\": \"MaxHR\",\n      \"properties\": {\n        \"dtype\": \"number\",\n        \"std\": 287.52953225319146,\n        \"min\": 25.460334138250293,\n        \"max\": 918.0,\n        \"num_unique_values\": 8,\n        \"samples\": [\n          136.80936819172112,\n          138.0,\n          918.0\n        ],\n        \"semantic_type\": \"\",\n        \"description\": \"\"\n      }\n    },\n    {\n      \"column\": \"Oldpeak\",\n      \"properties\": {\n        \"dtype\": \"number\",\n        \"std\": 324.18454495166225,\n        \"min\": -2.6,\n        \"max\": 918.0,\n        \"num_unique_values\": 8,\n        \"samples\": [\n          0.8873638344226579,\n          0.6,\n          918.0\n        ],\n        \"semantic_type\": \"\",\n        \"description\": \"\"\n      }\n    },\n    {\n      \"column\": \"HeartDisease\",\n      \"properties\": {\n        \"dtype\": \"number\",\n        \"std\": 324.35768309524013,\n        \"min\": 0.0,\n        \"max\": 918.0,\n        \"num_unique_values\": 5,\n        \"samples\": [\n          0.5533769063180828,\n          1.0,\n          0.4974137382845986\n        ],\n        \"semantic_type\": \"\",\n        \"description\": \"\"\n      }\n    }\n  ]\n}"
            }
          },
          "metadata": {},
          "execution_count": 33
        }
      ]
    },
    {
      "cell_type": "markdown",
      "source": [
        "\n",
        "\n",
        "İstatistik | Anlamı\n",
        "-----------|--------\n",
        "count      | Kaç veri var? Hepsinde 918 gözlem var (eksik veri yok).\n",
        "mean       | Ortalama değer.\n",
        "std        | Standart sapma (verilerin ne kadar yayıldığı).\n",
        "min        | En küçük değer.\n",
        "25%        | Verinin %25’i bu değerden küçük. (1. çeyrek)\n",
        "50%        | Medyan: Ortanca değer.\n",
        "75%        | Verinin %75’i bu değerden küçük. (3. çeyrek)\n",
        "max        | En büyük değer.\n",
        "\n",
        "Her Değişkenin Kendi Yorumu:\n",
        "\n",
        "Age (Yaş)\n",
        "- Ortalama: 53.5 yaş\n",
        "- En genç: 28, en yaşlı: 77\n",
        "- Yaşlar dengeli dağılmış, çoğunluk 47–60 arası.\n",
        "\n",
        "RestingBP (Dinlenme Kan Basıncı)\n",
        "- Ortalama: 132 mm Hg (normal sınırın biraz üzerinde)\n",
        "- Minimum değer 0 → veri hatası olabilir.\n",
        "- Genelde 120–140 arasında.\n",
        "\n",
        "Cholesterol (Kolesterol)\n",
        "- Ortalama: 198 mg/dl\n",
        "- Minimum değer 0 → veri hatası olabilir.\n",
        "- En yüksek: 603 mg/dl → çok yüksek!\n",
        "- Medyan: 223 mg/dl (normalden biraz yüksek)\n",
        "\n",
        "FastingBS (Açlık Kan Şekeri >120)\n",
        "- Ortalama: 0.23 → Verilerin %23'ünde açlık kan şekeri yüksek.\n",
        "- Kategorik gibi: 0 veya 1.\n",
        "\n",
        "MaxHR (Maksimum Kalp Atım Hızı)\n",
        "- Ortalama: 136 bpm\n",
        "- En düşük: 60, en yüksek: 202\n",
        "- Medyan: 138 → ortalama ile uyumlu.\n",
        "\n",
        "Oldpeak (ST Segmenti Depresyonu)\n",
        "- Ortalama: 0.88\n",
        "- 0 olanlar çoğunlukta, ama bazıları 6.2 → ciddi olabilir.\n",
        "- Medyan: 0.6\n",
        "\n",
        "HeartDisease (Kalp Hastalığı)\n",
        "- Ortalama: 0.55 → Yani %55’inde kalp hastalığı var.\n",
        "- Kategorik: 0 = yok, 1 = var.\n",
        "\n",
        "\n",
        "\n",
        "\n"
      ],
      "metadata": {
        "id": "nO95RLaVzNuN"
      }
    },
    {
      "cell_type": "markdown",
      "source": [
        "EKSİK VERİ KONTROLÜ"
      ],
      "metadata": {
        "id": "qoZq_0DVRq--"
      }
    },
    {
      "cell_type": "code",
      "source": [
        "df.isnull().sum()"
      ],
      "metadata": {
        "colab": {
          "base_uri": "https://localhost:8080/",
          "height": 460
        },
        "id": "OKDhbn8gRoln",
        "outputId": "22ea83d7-8f87-4bf5-bc1b-aad7df5f2da5"
      },
      "execution_count": null,
      "outputs": [
        {
          "output_type": "execute_result",
          "data": {
            "text/plain": [
              "Age               0\n",
              "Sex               0\n",
              "ChestPainType     0\n",
              "RestingBP         0\n",
              "Cholesterol       0\n",
              "FastingBS         0\n",
              "RestingECG        0\n",
              "MaxHR             0\n",
              "ExerciseAngina    0\n",
              "Oldpeak           0\n",
              "ST_Slope          0\n",
              "HeartDisease      0\n",
              "dtype: int64"
            ],
            "text/html": [
              "<div>\n",
              "<style scoped>\n",
              "    .dataframe tbody tr th:only-of-type {\n",
              "        vertical-align: middle;\n",
              "    }\n",
              "\n",
              "    .dataframe tbody tr th {\n",
              "        vertical-align: top;\n",
              "    }\n",
              "\n",
              "    .dataframe thead th {\n",
              "        text-align: right;\n",
              "    }\n",
              "</style>\n",
              "<table border=\"1\" class=\"dataframe\">\n",
              "  <thead>\n",
              "    <tr style=\"text-align: right;\">\n",
              "      <th></th>\n",
              "      <th>0</th>\n",
              "    </tr>\n",
              "  </thead>\n",
              "  <tbody>\n",
              "    <tr>\n",
              "      <th>Age</th>\n",
              "      <td>0</td>\n",
              "    </tr>\n",
              "    <tr>\n",
              "      <th>Sex</th>\n",
              "      <td>0</td>\n",
              "    </tr>\n",
              "    <tr>\n",
              "      <th>ChestPainType</th>\n",
              "      <td>0</td>\n",
              "    </tr>\n",
              "    <tr>\n",
              "      <th>RestingBP</th>\n",
              "      <td>0</td>\n",
              "    </tr>\n",
              "    <tr>\n",
              "      <th>Cholesterol</th>\n",
              "      <td>0</td>\n",
              "    </tr>\n",
              "    <tr>\n",
              "      <th>FastingBS</th>\n",
              "      <td>0</td>\n",
              "    </tr>\n",
              "    <tr>\n",
              "      <th>RestingECG</th>\n",
              "      <td>0</td>\n",
              "    </tr>\n",
              "    <tr>\n",
              "      <th>MaxHR</th>\n",
              "      <td>0</td>\n",
              "    </tr>\n",
              "    <tr>\n",
              "      <th>ExerciseAngina</th>\n",
              "      <td>0</td>\n",
              "    </tr>\n",
              "    <tr>\n",
              "      <th>Oldpeak</th>\n",
              "      <td>0</td>\n",
              "    </tr>\n",
              "    <tr>\n",
              "      <th>ST_Slope</th>\n",
              "      <td>0</td>\n",
              "    </tr>\n",
              "    <tr>\n",
              "      <th>HeartDisease</th>\n",
              "      <td>0</td>\n",
              "    </tr>\n",
              "  </tbody>\n",
              "</table>\n",
              "</div><br><label><b>dtype:</b> int64</label>"
            ]
          },
          "metadata": {},
          "execution_count": 34
        }
      ]
    },
    {
      "cell_type": "markdown",
      "source": [
        "Eksik veri olmadığı için devam edilmiştir, eğer eksik veri çok az olsaydı yani veri kaybına sebep vermeseydi df.dropna() ile eksik verilere silme işlemi yapılabilirdi; diğer durumda ise fillna komutu ile doldurma yapılırdı, bu doldurma türü farklı durumlarda değişiklik gösterir aşağıdaki tablo sayesinde duruma göre seçim yapılabilir.\n",
        "\n",
        "\n",
        "1. Verinin Türü: Sayısal mı, Kategorik mi?\n",
        "\n",
        "**Sayısal Veriler İçin:**\n",
        "\n",
        "| Durum                                    | Önerilen Yöntem                |\n",
        "|-----------------------------------------|--------------------------------|\n",
        "| Veri normal dağılıma yakınsa            | Ortalama (mean) ile doldur    |\n",
        "| Aykırı değer çoksa, çarpık dağılım varsa| Medyan (median) ile doldur     |\n",
        "| Az sayıda eksik varsa                   | Lineer interpolasyon kullan    |\n",
        "| Gelişmiş modelleme yapılacaksa          | Regresyonla tahmin ederek doldur |\n",
        "\n",
        "**Kategorik Veriler İçin:**\n",
        "\n",
        "| Durum                                    | Önerilen Yöntem                        |\n",
        "|-----------------------------------------|----------------------------------------|\n",
        "| Sınıf sayısı azsa ve biri baskınsa      | Mod (en sık geçen değer) ile doldur    |\n",
        "| Bilgi kaybı kabul edilebilirse          | \"Bilinmiyor\" gibi özel bir değer ile doldur |\n",
        "| Gelişmiş analiz yapılacaksa             | Sınıflandırma modeliyle tahmin et      |\n",
        "\n",
        "---\n",
        "\n",
        " 2. Eksik Verinin Oranı Ne Kadar?\n",
        "\n",
        "| Eksik Oranı       | Önerilen İşlem                             |\n",
        "|-------------------|--------------------------------------------|\n",
        "| %5’ten az         | Silmek mantıklı olabilir                   |\n",
        "| %5 – %30 arası    | Doldurmak daha doğru                       |\n",
        "| %30’dan fazla     | Sütunu çıkarmak veya dikkatle doldurmak    |\n",
        "\n",
        "---\n",
        "\n",
        "Örnek doldurma kodları:\n",
        "\n",
        "df[\"age\"] = df[\"age\"].fillna(df[\"age\"].mean())            # Ortalama ile\n",
        "\n",
        "df[\"sex\"] = df[\"sex\"].fillna(df[\"sex\"].median())       # Medyan ile\n",
        "\n",
        "cdf['embarked'] = df['embarked'].fillna(df['embarked'].mode()[0])  # Mod ile\n",
        "\n",
        "\n",
        "NOt: Bu doldurma işlemleri geçicidir, kalıcı olarak değişim için inplace=True da kodlara eklenmelidir."
      ],
      "metadata": {
        "id": "2rTuQtvBSBK7"
      }
    },
    {
      "cell_type": "markdown",
      "source": [
        "HEDEF DEĞİŞKENİN (Heart Disease) DAĞILIMI"
      ],
      "metadata": {
        "id": "pNvJuackT6J9"
      }
    },
    {
      "cell_type": "code",
      "source": [
        "import seaborn as sns\n",
        "import matplotlib.pyplot as plt\n",
        "\n",
        "sns.countplot(data=df, x='HeartDisease')\n",
        "plt.title('Hedef Değişkenin Dağılımı (HeartDisease)')\n",
        "plt.show()\n"
      ],
      "metadata": {
        "colab": {
          "base_uri": "https://localhost:8080/",
          "height": 472
        },
        "id": "Mysq2cBQT7Dl",
        "outputId": "62d786d8-2c42-4cea-aad2-f1df0f7784ba"
      },
      "execution_count": null,
      "outputs": [
        {
          "output_type": "display_data",
          "data": {
            "text/plain": [
              "<Figure size 640x480 with 1 Axes>"
            ],
            "image/png": "[encoded data removed]"
          },
          "metadata": {}
        }
      ]
    },
    {
      "cell_type": "markdown",
      "source": [
        "Hedef değişken olan HeartDisease, ikili (binary) bir kategorik değişkendir.\n",
        "Değerleri sadece 0 ve 1 olduğu için bu değişkenin dağılımını göstermek amacıyla bar chart (çubuk grafik) tercih edilmiştir.\n",
        "\n",
        "HeartDisease bir sınıflandırma problemi olduğundan her sınıfın (0 ve 1) kaç örneği olduğunu net şekilde göstermek için countplot() kullanılmıştır.\n"
      ],
      "metadata": {
        "id": "EPx-jy_ujSab"
      }
    },
    {
      "cell_type": "markdown",
      "source": [
        "KORELASYONLAR,DAĞILIMLAR VEYA KATEGORİK ETKİLEŞİMLER"
      ],
      "metadata": {
        "id": "ZOFl1wHxVLR9"
      }
    },
    {
      "cell_type": "markdown",
      "source": [
        "Korelasyon Matrisi"
      ],
      "metadata": {
        "id": "kvlnDzcKVXin"
      }
    },
    {
      "cell_type": "code",
      "source": [
        "import pandas as pd\n",
        "import seaborn as sns\n",
        "import matplotlib.pyplot as plt\n",
        "\n",
        "df_encoded = df.copy()\n",
        "\n",
        "corr = df_encoded.corr(numeric_only=True)  # Kategorik veriler ile korelasyon matrisi yapılamayacağı için sadece sayısal sütunları seçtik\n",
        "\n",
        "plt.figure(figsize=(15,10))\n",
        "sns.heatmap(corr, annot=True, cmap=\"coolwarm\")\n",
        "plt.title(\"Korelasyon Matrisi\")\n",
        "plt.show()"
      ],
      "metadata": {
        "colab": {
          "base_uri": "https://localhost:8080/",
          "height": 853
        },
        "id": "EPqZvkq7qCC5",
        "outputId": "2ff4ee15-ab6c-4d7a-c394-1ecbccfa74d0"
      },
      "execution_count": null,
      "outputs": [
        {
          "output_type": "display_data",
          "data": {
            "text/plain": [
              "<Figure size 1500x1000 with 2 Axes>"
            ],
            "image/png": "[encoded data removed]"
          },
          "metadata": {}
        }
      ]
    },
    {
      "cell_type": "markdown",
      "source": [
        "Korelasyon matrisi sonucuna göre, Oldpeak değişkeni ile kalp hastalığı arasında en güçlü pozitif ilişki görülmektedir. Bu, ST segment depresyonu arttıkça kalp hastalığı riskinin de arttığını gösterir. MaxHR (maksimum kalp atış hızı) ise kalp hastalığıyla negatif korelasyona sahiptir; yani kalp atış hızı yüksek olan bireylerde kalp hastalığı riski daha düşüktür. Age ve RestingBP gibi değişkenler ise kalp hastalığıyla zayıf pozitif ilişkiler gösterir. Cholesterol değişkeninin korelasyonu çok düşüktür, bu da model açısından belirleyici olmadığını gösterebilir."
      ],
      "metadata": {
        "id": "qzli-ouUJilz"
      }
    },
    {
      "cell_type": "code",
      "source": [
        "#Kategorik Değişken ve Hedef Değişken Karşılaştırılması (Cinsiyet vs Kalp Hastalığı)\n",
        "\n",
        "import seaborn as sns\n",
        "import matplotlib.pyplot as plt\n",
        "\n",
        "plt.figure(figsize=(8, 5))\n",
        "sns.countplot(data=df, x='Sex', hue='HeartDisease') #kategorik verilerin frekansını yani sıklığını ölçeriz\n",
        "plt.title(\"Cinsiyet ve Kalp Hastalığı Durumu\")\n",
        "plt.show()"
      ],
      "metadata": {
        "colab": {
          "base_uri": "https://localhost:8080/",
          "height": 487
        },
        "id": "5mkVxVvVaFZr",
        "outputId": "0f1b29ab-4700-4c1f-f249-9bbc4b826e98"
      },
      "execution_count": null,
      "outputs": [
        {
          "output_type": "display_data",
          "data": {
            "text/plain": [
              "<Figure size 800x500 with 1 Axes>"
            ],
            "image/png": "[encoded data removed]"
          },
          "metadata": {}
        }
      ]
    },
    {
      "cell_type": "markdown",
      "source": [
        "Erkek bireylerde (M: Male) kalp hastalığı görülme oranı kadınlara (F: Female) kıyasla daha fazladır. Bu durum, veri setine göre erkek cinsiyetinin kalp hastalığı için daha riskli bir grup olabileceğini gösteriyor."
      ],
      "metadata": {
        "id": "17FXjMagwbFo"
      }
    },
    {
      "cell_type": "code",
      "source": [
        "#Sayısal Değişken ve Hedef Değişken Karşılaştırılması (Kolesterol vs Kalp Hastalığı)\n",
        "\n",
        "import seaborn as sns\n",
        "import matplotlib.pyplot as plt\n",
        "\n",
        "plt.figure(figsize=(8, 5))\n",
        "sns.boxplot(data=df, x='HeartDisease', y='Cholesterol')\n",
        "plt.title(\"Kalp Hastalığı Durumuna Göre Kolesterol Dağılımı\")\n",
        "plt.xlabel(\"Kalp Hastalığı (0=Yok, 1=Var)\")\n",
        "plt.ylabel(\"Kolesterol (mg/dl)\")\n",
        "plt.show()"
      ],
      "metadata": {
        "colab": {
          "base_uri": "https://localhost:8080/",
          "height": 487
        },
        "id": "MXHECnYsusL2",
        "outputId": "8fe8777c-f0b6-4789-d9bb-2519f3a7d634"
      },
      "execution_count": null,
      "outputs": [
        {
          "output_type": "display_data",
          "data": {
            "text/plain": [
              "<Figure size 800x500 with 1 Axes>"
            ],
            "image/png": "[encoded data removed]"
          },
          "metadata": {}
        }
      ]
    },
    {
      "cell_type": "markdown",
      "source": [
        "Grafikte görüldüğü üzere, kalp hastalığı olan bireylerin (HeartDisease = 1) kolesterol seviyeleri genellikle daha yüksek ve daha geniş bir dağılıma sahiptir.\n",
        "\n",
        "Medyan kolesterol değerleri hastalığı olan grupta biraz daha yüksek görünmektedir.\n",
        "\n",
        "Boxplot analizinde ilginç bir şekilde, kalp hastalığı olmayan grupta daha fazla uç değer gözlemlendi. Bu durum, yüksek kolesterol seviyelerinin tek başına kalp hastalığı belirtisi olmadığını, diğer faktörlerin de önemli olduğunu düşündürmektedir. Ayrıca bu gruptaki bireylerde hastalık gelişmemiş olsa da, risk faktörlerinin var olabileceğini göstermektedir."
      ],
      "metadata": {
        "id": "rteV8g2_vZVk"
      }
    },
    {
      "cell_type": "markdown",
      "source": [
        "# Veri Ön İşleme"
      ],
      "metadata": {
        "id": "sXue6yJydiz1"
      }
    },
    {
      "cell_type": "code",
      "source": [
        "# Aykırı değer analizi için IQR yöntemi\n",
        "\n",
        "Q1 = df[\"Cholesterol\"].quantile(0.25)\n",
        "Q3 = df[\"Cholesterol\"].quantile(0.75)\n",
        "IQR = Q3 - Q1\n",
        "\n",
        "lower_bound = Q1 - 1.5 * IQR\n",
        "upper_bound = Q3 + 1.5 * IQR\n",
        "\n",
        "# Aykırı değerler\n",
        "\n",
        "outliers_iqr = df[(df[\"Cholesterol\"] < lower_bound) | (df[\"Cholesterol\"] > upper_bound)]\n",
        "print(outliers_iqr)"
      ],
      "metadata": {
        "colab": {
          "base_uri": "https://localhost:8080/"
        },
        "id": "45t5ce9caJ8e",
        "outputId": "7a4bf201-804d-478a-dd1c-b857c99bf765"
      },
      "execution_count": null,
      "outputs": [
        {
          "output_type": "stream",
          "name": "stdout",
          "text": [
            "     Age Sex ChestPainType  RestingBP  Cholesterol  FastingBS RestingECG  \\\n",
            "28    53   F           ATA        113          468          0     Normal   \n",
            "30    53   M           NAP        145          518          0     Normal   \n",
            "69    44   M           ASY        150          412          0     Normal   \n",
            "76    32   M           ASY        118          529          0     Normal   \n",
            "103   40   M           ASY        120          466          1     Normal   \n",
            "..   ...  ..           ...        ...          ...        ...        ...   \n",
            "535   56   M           ASY        130            0          0        LVH   \n",
            "536   62   M           NAP        133            0          1         ST   \n",
            "616   67   F           NAP        115          564          0        LVH   \n",
            "667   65   F           NAP        140          417          1        LVH   \n",
            "796   56   F           ASY        134          409          0        LVH   \n",
            "\n",
            "     MaxHR ExerciseAngina  Oldpeak ST_Slope  HeartDisease  \n",
            "28     127              N      0.0       Up             0  \n",
            "30     130              N      0.0     Flat             1  \n",
            "69     170              N      0.0       Up             0  \n",
            "76     130              N      0.0     Flat             1  \n",
            "103    152              Y      1.0     Flat             1  \n",
            "..     ...            ...      ...      ...           ...  \n",
            "535    122              Y      1.0     Flat             1  \n",
            "536    119              Y      1.2     Flat             1  \n",
            "616    160              N      1.6     Flat             0  \n",
            "667    157              N      0.8       Up             0  \n",
            "796    150              Y      1.9     Flat             1  \n",
            "\n",
            "[183 rows x 12 columns]\n"
          ]
        }
      ]
    },
    {
      "cell_type": "markdown",
      "source": [
        "Aykırı değerleri belirlerken IQR yöntemi, verinin dağılımına duyarlı, sağlam (robust) bir yaklaşımdır. Ortalamaya ve standart sapmaya dayalı yöntemler (örneğin Z-Skoru) verinin simetrik ve normal dağılmış olmasını varsayar. Ancak çoğu gerçek veri setinde bu varsayım geçerli değildir.\n",
        "\n",
        "IQR, çeyrek değerler (Q1 ve Q3) üzerinden çalıştığı için özellikle çarpık dağılım gösteren değişkenlerde daha güvenilir sonuçlar verir. Aykırı değerleri silmek yerine, sınırlarla kırparak (Winsorizing) modelin doğruluğunu korurken veriden kopmadan ilerlemeyi sağlar.\n",
        "\n",
        "Bu sebeple, hem veri kaybını önlemek hem de sağlam bir ön işleme sağlamak amacıyla IQR yöntemini tercih edilmiştir."
      ],
      "metadata": {
        "id": "WwwwKIhhe7yy"
      }
    },
    {
      "cell_type": "code",
      "source": [
        "# Winsorizing (üst ve alt sınır dışındakileri sınır değerle değiştirme)\n",
        "\n",
        "df[\"Cholesterol\"] = df[\"Cholesterol\"].clip(lower_bound, upper_bound)"
      ],
      "metadata": {
        "id": "Q7kpUSgVbmK5"
      },
      "execution_count": null,
      "outputs": []
    },
    {
      "cell_type": "code",
      "source": [
        "# ikili kategorik veriler için label encoding işlemi\n",
        "\n",
        "from sklearn.preprocessing import LabelEncoder\n",
        "\n",
        "le_sex = LabelEncoder()\n",
        "df[\"Sex\"] = le_sex.fit_transform(df[\"Sex\"])  # M-F → 1-0\n",
        "\n",
        "le_angina = LabelEncoder()\n",
        "df[\"ExerciseAngina\"] = le_angina.fit_transform(df[\"ExerciseAngina\"])  # Y-N → 1-0"
      ],
      "metadata": {
        "id": "w7RbUBPTijjt"
      },
      "execution_count": null,
      "outputs": []
    },
    {
      "cell_type": "markdown",
      "source": [
        "Makine öğrenmesi modelleri sayısal verilerle çalışır.\n",
        "\n",
        "İkili (binary) kategoriler basitçe 0 ve 1 ile temsil edilerek modele uygun hale getirilmiştir.\n",
        "\n",
        "Bu işleme Label Encoding denir ve iki kategorili veriler için uygundur."
      ],
      "metadata": {
        "id": "20ekuoHOsyzY"
      }
    },
    {
      "cell_type": "code",
      "source": [
        "#Çoklu kategorik veriler için one-hot encoding işlemi\n",
        "\n",
        "df = pd.get_dummies(df, columns=[\"ChestPainType\", \"RestingECG\", \"ST_Slope\"], drop_first=True)"
      ],
      "metadata": {
        "id": "GUZnMNu0brfJ"
      },
      "execution_count": null,
      "outputs": []
    },
    {
      "cell_type": "markdown",
      "source": [
        "ChestPainType, RestingECG veST_Slope sütunları birden fazla sınıf içerdiği için One-Hot Encoding kullanılmmıştır.\n",
        "\n",
        "Her kategori için ayrı sütunlar oluşturularak 0/1 değerleriyle temsil edilmiştir.\n",
        "\n",
        "drop_first=True diyerek dummy trap (çoklu doğrusal bağlantı) önlenmiştir.\n",
        "\n",
        "NOT: RestingECG (dinlenme elektrokardiyogram sonuçları):\n",
        "\"Normal\", \"ST\", \"LVH\" yani 3 farklı kategoriden oluşmuştur\n",
        "\n",
        "ST_Slope (egzersiz sonrası ST segment eğimi):\n",
        "\"Up\", \"Flat\", \"Down\" yani 3 farklı kategoriden oluşmuştur."
      ],
      "metadata": {
        "id": "D6o0hVWis3mD"
      }
    },
    {
      "cell_type": "code",
      "source": [
        "#Test aşaması\n",
        "\n",
        "from sklearn.model_selection import train_test_split\n",
        "\n",
        "X = df.drop(\"HeartDisease\", axis=1)\n",
        "y = df[\"HeartDisease\"]\n",
        "\n",
        "X_train, X_test, y_train, y_test = train_test_split(X, y, test_size=0.2, random_state=42)\n"
      ],
      "metadata": {
        "id": "JV0x__9Dbt4B"
      },
      "execution_count": null,
      "outputs": []
    },
    {
      "cell_type": "markdown",
      "source": [
        "\"HeartDisease\" hedef değişkendir (yani tahmin etmek istediğimiz şey).\n",
        "\n",
        "Diğer tüm sütunlar özellik (feature) olarak kullanılmıştır.\n",
        "\n",
        "Modelin performansını test edebilmek için veri %80 eğitim, %20 test olarak bölünmüştür.\n"
      ],
      "metadata": {
        "id": "Cj5UHyt-s97b"
      }
    },
    {
      "cell_type": "code",
      "source": [
        "# Ölçekleme aşaması\n",
        "\n",
        "from sklearn.preprocessing import StandardScaler\n",
        "\n",
        "scaler = StandardScaler()\n",
        "sayisal_ozellikler = ['Age', 'RestingBP', 'Cholesterol', 'MaxHR', 'Oldpeak']\n",
        "\n",
        "# Sadece eğitim verisine fit, test verisine transform (veri sızıntısı olmaması için)\n",
        "\n",
        "X_train[sayisal_ozellikler] = scaler.fit_transform(X_train[sayisal_ozellikler])\n",
        "X_test[sayisal_ozellikler] = scaler.transform(X_test[sayisal_ozellikler])"
      ],
      "metadata": {
        "id": "oyFU0eoObw2d"
      },
      "execution_count": null,
      "outputs": []
    },
    {
      "cell_type": "markdown",
      "source": [
        "Sayısal sütunların farklı birimlerde olması modelin dengesini bozar (örneğin yaş 40, kolesterol 300).\n",
        "\n",
        "Bu yüzden StandardScaler ile tüm sayısal özellikler ortalamaları 0, standart sapmaları 1 olacak şekilde ölçeklendirilmiştir.\n",
        "\n",
        "Fit işlemi sadece eğitim setinde, transform işlemi ise hem eğitim hem test setinde uygulanmıştır (bilgi sızıntısı olmaması için).\n",
        "\n"
      ],
      "metadata": {
        "id": "-SVCiuHptAza"
      }
    },
    {
      "cell_type": "markdown",
      "source": [
        "Ölçekleme işlemi, mutlaka eğitim-test ayrımından sonra uygulanmalıdır!Test verisi, modelin hiç “görmediği” bir veri olmalıdır. Eğer tüm veri setinde fit() uygulanırsa, test verisinin ortalaması ve std’si modele sızar → doğrulama güvenilir olmaz!"
      ],
      "metadata": {
        "id": "_p-w-h6RH38p"
      }
    },
    {
      "cell_type": "markdown",
      "source": [
        "# Sınıflandırma Modelleri"
      ],
      "metadata": {
        "id": "W5vah_6ne7Kw"
      }
    },
    {
      "cell_type": "code",
      "source": [
        "from sklearn.linear_model import LogisticRegression\n",
        "from sklearn.metrics import accuracy_score, precision_score, recall_score, f1_score, confusion_matrix, roc_auc_score, roc_curve\n",
        "import seaborn as sns\n",
        "import matplotlib.pyplot as plt\n",
        "\n",
        "# Model oluşturma ve eğitme\n",
        "\n",
        "log_model = LogisticRegression()\n",
        "log_model.fit(X_train, y_train)\n",
        "\n",
        "# Tahminler\n",
        "\n",
        "y_pred_log = log_model.predict(X_test)\n",
        "\n",
        "# Başarı metrikleri\n",
        "\n",
        "print(\"Logistic Regression\")\n",
        "print(\"Accuracy:\", accuracy_score(y_test, y_pred_log))\n",
        "print(\"Precision:\", precision_score(y_test, y_pred_log))\n",
        "print(\"Recall:\", recall_score(y_test, y_pred_log))\n",
        "print(\"F1 Score:\", f1_score(y_test, y_pred_log))"
      ],
      "metadata": {
        "id": "1jYOsg8wbrRe",
        "colab": {
          "base_uri": "https://localhost:8080/"
        },
        "outputId": "6a99699b-181d-42ae-b07a-60499f22d857"
      },
      "execution_count": null,
      "outputs": [
        {
          "output_type": "stream",
          "name": "stdout",
          "text": [
            "Logistic Regression\n",
            "Accuracy: 0.8532608695652174\n",
            "Precision: 0.9\n",
            "Recall: 0.8411214953271028\n",
            "F1 Score: 0.8695652173913043\n"
          ]
        }
      ]
    },
    {
      "cell_type": "markdown",
      "source": [
        "Lojistik regresyon modeli ile yapılan tahminlerde doğruluk (accuracy) oranı, modelin test verisindeki örneklerin büyük çoğunluğunu doğru tahmin ettiğini göstermektedir. Precision (kesinlik) değeri yüksek çıktığı için, model kalp hastalığı var dediği bireylerin çoğunda gerçekten hastalık bulunmuştur. Recall (duyarlılık) değerine bakıldığında, modelin bazı gerçek hastaları kaçırdığı, yani hepsini tam olarak tespit edemediği anlaşılmaktadır. F1 skoru ise precision ve recall arasında dengeli bir performans ortaya koyduğunu gösterir. Genel olarak modelin başarılı, ancak gerçek hastaları kaçırma riski taşıdığı söylenebilir."
      ],
      "metadata": {
        "id": "Vhk9o-6mJ79f"
      }
    },
    {
      "cell_type": "code",
      "source": [
        "# Confusion Matrix\n",
        "\n",
        "cm_log = confusion_matrix(y_test, y_pred_log)\n",
        "sns.heatmap(cm_log, annot=True, fmt='d', cmap='Blues')\n",
        "plt.title(\"Logistic Regression - Confusion Matrix\")\n",
        "plt.xlabel(\"Tahmin Edilen Değerler\")\n",
        "plt.ylabel(\"Gerçek Değerler\")\n",
        "plt.show()\n",
        "\n",
        "# ROC Curve\n",
        "\n",
        "fpr_log, tpr_log, _ = roc_curve(y_test, y_prob_log)\n",
        "roc_auc_log = roc_auc_score(y_test, y_prob_log)\n",
        "\n",
        "plt.figure(figsize=(6, 6))\n",
        "plt.plot(fpr_log, tpr_log, label='LogReg AUC = %0.2f' % roc_auc_log)\n",
        "plt.plot([0,1], [0,1], linestyle='--', color='gray')\n",
        "plt.xlabel(\"False Positive Rate\")\n",
        "plt.ylabel(\"True Positive Rate\")\n",
        "plt.title(\"ROC Curve - Logistic Regression\")\n",
        "plt.legend()\n",
        "plt.show()"
      ],
      "metadata": {
        "colab": {
          "base_uri": "https://localhost:8080/",
          "height": 1000
        },
        "id": "IQo4XLg4qr8k",
        "outputId": "2a270897-6056-464b-9ae8-881551f6c690"
      },
      "execution_count": null,
      "outputs": [
        {
          "output_type": "display_data",
          "data": {
            "text/plain": [
              "<Figure size 640x480 with 2 Axes>"
            ],
            "image/png": "[encoded data removed]"
          },
          "metadata": {}
        },
        {
          "output_type": "display_data",
          "data": {
            "text/plain": [
              "<Figure size 600x600 with 1 Axes>"
            ],
            "image/png": "[encoded data removed]"
          },
          "metadata": {}
        }
      ]
    },
    {
      "cell_type": "code",
      "source": [
        "from sklearn.ensemble import RandomForestClassifier\n",
        "\n",
        "# Model oluşturma ve eğitme\n",
        "\n",
        "rf_model = RandomForestClassifier(random_state=42)\n",
        "rf_model.fit(X_train, y_train)\n",
        "\n",
        "# Tahminler\n",
        "\n",
        "y_pred_rf = rf_model.predict(X_test)\n",
        "\n",
        "# Başarı metrikleri\n",
        "\n",
        "print(\"Random Forest\")\n",
        "print(\"Accuracy:\", accuracy_score(y_test, y_pred_rf))\n",
        "print(\"Precision:\", precision_score(y_test, y_pred_rf))\n",
        "print(\"Recall:\", recall_score(y_test, y_pred_rf))\n",
        "print(\"F1 Score:\", f1_score(y_test, y_pred_rf))"
      ],
      "metadata": {
        "colab": {
          "base_uri": "https://localhost:8080/"
        },
        "id": "nTa0UGvgqu4E",
        "outputId": "672283e2-73c1-477b-d3c6-dfa7a1ca1106"
      },
      "execution_count": null,
      "outputs": [
        {
          "output_type": "stream",
          "name": "stdout",
          "text": [
            "Random Forest\n",
            "Accuracy: 0.8586956521739131\n",
            "Precision: 0.8857142857142857\n",
            "Recall: 0.8691588785046729\n",
            "F1 Score: 0.8773584905660378\n"
          ]
        }
      ]
    },
    {
      "cell_type": "code",
      "source": [
        "# Confusion Matrix\n",
        "\n",
        "cm_rf = confusion_matrix(y_test, y_pred_rf)\n",
        "sns.heatmap(cm_rf, annot=True, fmt='d', cmap='Greens')\n",
        "plt.title(\"Random Forest - Confusion Matrix\")\n",
        "plt.xlabel(\"Tahmin Edilen Değerler\")\n",
        "plt.ylabel(\"Gerçek Değerler\")\n",
        "plt.show()\n",
        "\n",
        "# ROC Curve\n",
        "\n",
        "fpr_rf, tpr_rf, _ = roc_curve(y_test, y_prob_rf)\n",
        "roc_auc_rf = roc_auc_score(y_test, y_prob_rf)\n",
        "\n",
        "plt.figure(figsize=(6, 6))\n",
        "plt.plot(fpr_rf, tpr_rf, label='RF AUC = %0.2f' % roc_auc_rf)\n",
        "plt.plot([0,1], [0,1], linestyle='--', color='gray')\n",
        "plt.xlabel(\"False Positive Rate\")\n",
        "plt.ylabel(\"True Positive Rate\")\n",
        "plt.title(\"ROC Curve - Random Forest\")\n",
        "plt.legend()\n",
        "plt.show()"
      ],
      "metadata": {
        "colab": {
          "base_uri": "https://localhost:8080/",
          "height": 1000
        },
        "id": "dUdPnqmgqvW0",
        "outputId": "53ccc2d5-6241-422a-a4c7-2fefb2829b12"
      },
      "execution_count": null,
      "outputs": [
        {
          "output_type": "display_data",
          "data": {
            "text/plain": [
              "<Figure size 640x480 with 2 Axes>"
            ],
            "image/png": "[encoded data removed]"
          },
          "metadata": {}
        },
        {
          "output_type": "display_data",
          "data": {
            "text/plain": [
              "<Figure size 600x600 with 1 Axes>"
            ],
            "image/png": "[encoded data removed]"
          },
          "metadata": {}
        }
      ]
    },
    {
      "cell_type": "markdown",
      "source": [
        "Karmaşıklık matrisi, modelin tahminlerinin ne kadar doğru olduğunu detaylı olarak gösterir:\n",
        "\n",
        "Gerçek pozitif: Modelin doğru şekilde “hasta” dediği kişi sayısı.\n",
        "\n",
        "Gerçek negatif: Modelin doğru şekilde “sağlıklı” dediği kişi sayısı.\n",
        "\n",
        "Yanlış pozitif (False Positive): Modelin sağlıklı kişiye “hasta” demesi.\n",
        "\n",
        "Yanlış negatif (False Negative): Modelin hasta kişiye “sağlıklı” demesi.\n",
        "\n",
        "Eğer matrisin diyagonalinde (sol üst ve sağ alt) değerler yüksekse, modelin doğru tahminleri fazladır. Sağ alt köşedeki sayı (false negatives) yüksekse, model bazı hastaları atlıyor demektir, bu sağlık alanında ciddi bir risktir.\n",
        "Buna göre modelimiz başarılı bir tahmin yapmıştır."
      ],
      "metadata": {
        "id": "05eNz8etLAYS"
      }
    },
    {
      "cell_type": "markdown",
      "source": [
        "ROC eğrisi ile modelin pozitif sınıfı ne kadar iyi ayırdığını gösterilmiştir.\n",
        "\n",
        "ROC eğrisinin altındaki alan (AUC) 1’e ne kadar yakınsa, o kadar iyidir.\n",
        "\n",
        "AUC skoru 0.80 ve üzeriyse, model oldukça iyi sınıflandırma yapıyor denebilir.\n"
      ],
      "metadata": {
        "id": "3fpj0hhUlzjP"
      }
    }
  ],
  "metadata": {
    "colab": {
      "provenance": []
    },
    "kernelspec": {
      "display_name": "Python 3",
      "name": "python3"
    },
    "language_info": {
      "name": "python"
    }
  },
  "nbformat": 4,
  "nbformat_minor": 0
}